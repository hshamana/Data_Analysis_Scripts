{
 "cells": [
  {
   "cell_type": "code",
   "execution_count": 174,
   "metadata": {},
   "outputs": [],
   "source": [
    "import numpy as np\n",
    "import pandas as pd\n",
    "import os\n",
    "from tkinter import Tk\n",
    "from tkinter.filedialog import askopenfilename"
   ]
  },
  {
   "cell_type": "markdown",
   "metadata": {},
   "source": [
    "## First determine the average viscosity of water measured at the start of the experiment"
   ]
  },
  {
   "cell_type": "code",
   "execution_count": 175,
   "metadata": {},
   "outputs": [],
   "source": [
    "# Open Milli-Q Water Flow Sweep file and obtain the directory and filename\n",
    "\n",
    "root = Tk()\n",
    "root.withdraw()\n",
    "filepath_water = askopenfilename(message=\"Select the Milli-Q Water Flow Sweep data\")\n",
    "root.update()\n",
    "\n",
    "filename_water = os.path.basename(filepath_water)\n",
    "directory_water = filepath_water[0:-len(filename_water)]\n",
    "\n",
    "# Load the data into a dataframe\n",
    "df_water = pd.read_csv(filepath_water,header=91)\n",
    "df_water.rename(columns={'Pa':'stress','1/s':'shear rate','Pa.s':'viscosity','min':'step time','°C':'temperature','Pa.1':'normal stress difference'},inplace=True)\n",
    "\n",
    "# Determine the number of flow sweep runs performed\n",
    "breaks = df_water['viscosity'].isnull().sum()\n",
    "breaks = breaks/2\n",
    "runs = breaks + 1.0\n",
    "\n",
    "# Drop the empty rows that separate the different runs in the datafile\n",
    "df_water=df_water.apply(pd.to_numeric, errors='coerce')\n",
    "df_water.dropna(axis=0,inplace=True)\n",
    "df_water.reset_index(inplace=True)\n",
    "\n",
    "# Organize all of the runs into a dictionary of dataframes\n",
    "i = len(df_water)/runs\n",
    "i = i.astype(int)\n",
    "\n",
    "df_water_dict = {n: df_water.iloc[n:n+i, :] \n",
    "           for n in range(0, len(df_water), i)}\n",
    "\n",
    "\n",
    "# Fit the stress vs strain rate data for water for all of the runs and obtain the average viscosity and its stdev\n",
    "eta = np.array([])\n",
    "b = np.array([])\n",
    "\n",
    "for keys in df_water_dict.keys():\n",
    "    x = df_water_dict[keys]['shear rate']\n",
    "    y = df_water_dict[keys]['stress']\n",
    "    fit = np.polyfit(x,y,deg=1)\n",
    "\n",
    "    eta = np.append(eta,fit[0])\n",
    "    b = np.append(b,fit[1])\n",
    "    \n",
    "eta_avg = np.mean(eta)\n",
    "eta_stdev = np.std(eta)\n",
    "b_avg = np.mean(b)"
   ]
  },
  {
   "cell_type": "markdown",
   "metadata": {},
   "source": [
    "## Get the PG measurement datafile and read data into a dataframe"
   ]
  },
  {
   "cell_type": "code",
   "execution_count": 176,
   "metadata": {},
   "outputs": [],
   "source": [
    "root = Tk()\n",
    "root.withdraw()\n",
    "filepath_PG = askopenfilename(message=\"Select the PG measurement data\")\n",
    "root.update()\n",
    "\n",
    "filename_PG = os.path.basename(filepath_PG)\n",
    "directory_PG = filepath_PG[0:-len(filename_PG)]\n"
   ]
  },
  {
   "cell_type": "code",
   "execution_count": 177,
   "metadata": {},
   "outputs": [
    {
     "data": {
      "text/plain": [
       "'/Users/hurmizshamana/Desktop/Python Analyzed Data/2021-01-20/'"
      ]
     },
     "execution_count": 177,
     "metadata": {},
     "output_type": "execute_result"
    }
   ],
   "source": [
    "directory_PG"
   ]
  },
  {
   "cell_type": "code",
   "execution_count": 178,
   "metadata": {},
   "outputs": [],
   "source": [
    "df_PG = pd.read_csv(filepath_PG,skiprows=91,skipfooter=52,engine='python')\n",
    "df_PG.rename(columns={'Pa':'stress','1/s':'shear rate','Pa.s':'viscosity','min':'step time','°C':'temperature','Pa.1':'normal stress difference'},inplace=True)"
   ]
  },
  {
   "cell_type": "code",
   "execution_count": 179,
   "metadata": {},
   "outputs": [],
   "source": [
    "breaks = df_PG['viscosity'].isnull().sum()\n",
    "breaks = breaks/2\n",
    "runs = breaks + 1.0"
   ]
  },
  {
   "cell_type": "code",
   "execution_count": 180,
   "metadata": {},
   "outputs": [],
   "source": [
    "df_PG=df_PG.apply(pd.to_numeric, errors='coerce')\n",
    "df_PG.dropna(axis=0,inplace=True)\n",
    "df_PG.reset_index(inplace=True)"
   ]
  },
  {
   "cell_type": "code",
   "execution_count": 181,
   "metadata": {},
   "outputs": [],
   "source": [
    "i = len(df_PG)/runs\n",
    "i = i.astype(int)\n",
    "\n",
    "df_PG_dict = {n: df_PG.iloc[n:n+i, :] \n",
    "           for n in range(0, len(df_PG), i)}"
   ]
  },
  {
   "cell_type": "markdown",
   "metadata": {},
   "source": [
    "# Determine an appropriate initial guess for the Cross model parameters"
   ]
  },
  {
   "cell_type": "code",
   "execution_count": 182,
   "metadata": {},
   "outputs": [],
   "source": [
    "%matplotlib inline\n",
    "import matplotlib as mpl\n",
    "import matplotlib.pyplot as plt"
   ]
  },
  {
   "cell_type": "code",
   "execution_count": 191,
   "metadata": {},
   "outputs": [],
   "source": [
    "# Select the smallest shear rate that falls outside of the noise of the data\n",
    "min_shear_rate = 2\n",
    "max_shear_rate = 1000\n",
    "\n",
    "eta_o = 0.045\n",
    "k=0.0001\n",
    "m=0.8\n",
    "params = [eta_o,k,m]\n",
    "\n",
    "gamma_dot = np.linspace(min_shear_rate,max_shear_rate,1000)\n",
    "cross = eta_o/(1 + (k*gamma_dot)**m)\n",
    "\n",
    "# df_cross = pd.DataFrame({'shear rate':gamma_dot,'initial guess':cross})"
   ]
  },
  {
   "cell_type": "code",
   "execution_count": 192,
   "metadata": {},
   "outputs": [
    {
     "data": {
      "image/png": "[encoded data removed]",
      "text/plain": [
       "<Figure size 432x288 with 1 Axes>"
      ]
     },
     "metadata": {
      "needs_background": "light"
     },
     "output_type": "display_data"
    }
   ],
   "source": [
    "x = df_PG_dict[0][df_PG_dict[0]['shear rate']>=min_shear_rate]['shear rate']\n",
    "y = df_PG_dict[0][df_PG_dict[0]['shear rate']>=min_shear_rate]['viscosity']\n",
    "\n",
    "plt.scatter(x,y,color = 'red')\n",
    "plt.plot(gamma_dot,cross)\n",
    "plt.yscale('log')\n",
    "plt.xscale('log')\n",
    "plt.xlabel('shear rate')\n",
    "plt.ylabel('viscosity')\n",
    "plt.show()"
   ]
  },
  {
   "cell_type": "markdown",
   "metadata": {},
   "source": [
    "# Using the initial guess, fit the data to the Cross model"
   ]
  },
  {
   "cell_type": "code",
   "execution_count": 193,
   "metadata": {},
   "outputs": [],
   "source": [
    "from scipy.optimize import curve_fit\n",
    "\n",
    "def func(x,eta_o,k,m):\n",
    "    return eta_o/(1 + (k*x)**m)"
   ]
  },
  {
   "cell_type": "code",
   "execution_count": 194,
   "metadata": {},
   "outputs": [],
   "source": [
    "zero_shear_visc = np.array([])\n",
    "k_array = np.array([])\n",
    "m_array = np.array([])\n",
    "\n",
    "for keys in df_PG_dict.keys():\n",
    "    x = df_PG_dict[keys][df_PG_dict[keys]['shear rate']>=min_shear_rate]['shear rate']\n",
    "    y = df_PG_dict[keys][df_PG_dict[keys]['shear rate']>=min_shear_rate]['viscosity']\n",
    "    popt, pcov = curve_fit(func,x,y,p0=params)\n",
    "    \n",
    "    zero_shear_visc = np.append(zero_shear_visc,popt[0])\n",
    "    k_array = np.append(k_array,popt[1])\n",
    "    m_array = np.append(m_array,popt[2])"
   ]
  },
  {
   "cell_type": "code",
   "execution_count": 195,
   "metadata": {},
   "outputs": [],
   "source": [
    "# best_fit_cross = zero_shear_visc/(1 + (k_array*gamma_dot)**m_array)"
   ]
  },
  {
   "cell_type": "markdown",
   "metadata": {},
   "source": [
    "# Plot all of the datasets and their corresponding best fits to the Cross model"
   ]
  },
  {
   "cell_type": "code",
   "execution_count": 196,
   "metadata": {},
   "outputs": [
    {
     "data": {
      "image/png": "[encoded data removed]",
      "text/plain": [
       "<Figure size 864x720 with 1 Axes>"
      ]
     },
     "metadata": {
      "needs_background": "light"
     },
     "output_type": "display_data"
    }
   ],
   "source": [
    "colors = ['r', 'b', 'g', 'c', 'm', 'y', 'k', 'w']\n",
    "\n",
    "ax = df_PG_dict[0][df_PG_dict[0]['shear rate']>=min_shear_rate].plot(kind='scatter',\n",
    "                                                                    x='shear rate',\n",
    "                                                                    y='viscosity',\n",
    "                                                                    s=100,\n",
    "                                                                    figsize=(12,10),\n",
    "                                                                    color=colors[0])\n",
    "\n",
    "plt.plot(gamma_dot,zero_shear_visc[0]/(1 + (k_array[0]*gamma_dot)**m_array[0]),color='black',zorder=0)\n",
    "\n",
    "for keys in list(df_PG_dict.keys())[1:]:\n",
    "    \n",
    "    i = list(df_PG_dict.keys()).index(keys)\n",
    "    \n",
    "    df_PG_dict[keys][df_PG_dict[keys]['shear rate']>=min_shear_rate].plot(kind='scatter',\n",
    "                                                                       x='shear rate',\n",
    "                                                                       y='viscosity',\n",
    "                                                                       s=100, \n",
    "                                                                       color = colors[i], \n",
    "                                                                       ax = ax)\n",
    "    \n",
    "    plt.plot(gamma_dot,zero_shear_visc[i]/(1+(k_array[i]*gamma_dot)**m_array[i]),color='black',zorder=0)\n",
    "\n",
    "ax.set_yscale('log')\n",
    "ax.set_xscale('log')\n",
    "ax.set_ylabel(r'viscosity $\\eta$ (Pa$\\cdot$s)',fontsize=24)\n",
    "ax.set_xlabel(r'shear rate $\\dot{\\gamma}$ (s$^{-1}$)',fontsize=24,labelpad=10)\n",
    "\n",
    "ax2 = ax.secondary_yaxis('right')\n",
    "ax3 = ax.secondary_xaxis('top')\n",
    "\n",
    "\n",
    "ax.tick_params(axis='both',which='major',length=8, width=2,labelsize=22,direction='out')\n",
    "ax.tick_params(axis='both',which='minor',length=4, width=2,labelsize=0,direction='out')\n",
    "ax2.tick_params(axis='both',which='major',length=8, width=2,labelsize=0, direction='in')\n",
    "ax2.tick_params(axis='both',which='minor',length=4, width=2,labelsize=0, direction='in')\n",
    "ax3.tick_params(axis='both',which='major',length=8, width=2,labelsize=0, direction='in')\n",
    "ax3.tick_params(axis='both',which='minor',length=4, width=2,labelsize=0, direction='in')\n",
    "\n",
    "ax.spines['left'].set_linewidth(2)\n",
    "ax.spines['bottom'].set_linewidth(2)\n",
    "ax2.spines['right'].set_linewidth(2)\n",
    "ax3.spines['top'].set_linewidth(2)\n",
    "\n",
    "# ax.annotate(r'$\\eta_{avg}$ = %.6f Pa s' % eta_avg, xy=(10,0.09),fontsize=20)\n",
    "\n",
    "plt.savefig(directory_PG+filename_PG+' Cross fit.png',facecolor='w')\n",
    "plt.show()"
   ]
  },
  {
   "cell_type": "code",
   "execution_count": 197,
   "metadata": {},
   "outputs": [],
   "source": [
    "# figure out how to make input boxes appear to enter the required inputs\n",
    "# think about the best way to output all of the data (plots,average viscosities + errors, etc)"
   ]
  }
 ],
 "metadata": {
  "kernelspec": {
   "display_name": "Python 3",
   "language": "python",
   "name": "python3"
  },
  "language_info": {
   "codemirror_mode": {
    "name": "ipython",
    "version": 3
   },
   "file_extension": ".py",
   "mimetype": "text/x-python",
   "name": "python",
   "nbconvert_exporter": "python",
   "pygments_lexer": "ipython3",
   "version": "3.8.5"
  }
 },
 "nbformat": 4,
 "nbformat_minor": 4
}
